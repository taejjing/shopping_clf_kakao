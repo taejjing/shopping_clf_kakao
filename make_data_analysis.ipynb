{
 "cells": [
  {
   "cell_type": "code",
   "execution_count": null,
   "metadata": {},
   "outputs": [],
   "source": [
    "!pip install h5py numpy pandas six"
   ]
  },
  {
   "cell_type": "code",
   "execution_count": 1,
   "metadata": {},
   "outputs": [],
   "source": [
    "import h5py\n",
    "import numpy as np\n",
    "import pandas as pd\n",
    "from six.moves import cPickle\n",
    "\n",
    "from tensorflow.keras.preprocessing.text import Tokenizer\n",
    "from tensorflow.keras.preprocessing.sequence import pad_sequences\n",
    "from tensorflow.keras.utils import to_categorical"
   ]
  },
  {
   "cell_type": "code",
   "execution_count": 2,
   "metadata": {},
   "outputs": [],
   "source": [
    "train_file_list = [\n",
    "    'origin/train.chunk.01'\n",
    "    , 'origin/train.chunk.02', 'origin/train.chunk.03',\n",
    "    'origin/train.chunk.04', 'origin/train.chunk.05', 'origin/train.chunk.06',\n",
    "    'origin/train.chunk.07', 'origin/train.chunk.08', 'origin/train.chunk.09'\n",
    "]\n",
    "\n",
    "dev_file_list = [\n",
    "    'origin/dev.chunk.01'\n",
    "]\n",
    "\n",
    "test_file_list = [\n",
    "    'origin/test.chunk.01',\n",
    "    'origin/test.chunk.02'\n",
    "]"
   ]
  },
  {
   "cell_type": "code",
   "execution_count": 3,
   "metadata": {},
   "outputs": [],
   "source": [
    "def get_cate_maxsize(range_cate):\n",
    "    \n",
    "    b_cate_max = 57\n",
    "    m_cate_max = 552\n",
    "    s_cate_max = 3190\n",
    "    d_cate_max = 404\n",
    "    \n",
    "    if (range_cate == 'bcateid'):\n",
    "        cate_size = b_cate_max\n",
    "    elif (range_cate == 'mcateid'):\n",
    "        cate_size = m_cate_max\n",
    "        \n",
    "    # s and d have zero(originally -1)\n",
    "    elif (range_cate == 'scateid'):\n",
    "        cate_size = s_cate_max + 1\n",
    "    elif (range_cate == 'dcateid'):\n",
    "        cate_size = d_cate_max + 1\n",
    "    else :\n",
    "        print(\"wrong id...\")\n",
    "        return\n",
    "    \n",
    "    return cate_size\n",
    "    "
   ]
  },
  {
   "cell_type": "code",
   "execution_count": 4,
   "metadata": {},
   "outputs": [],
   "source": [
    "def get_size(data_attr):\n",
    "    \n",
    "    file_list = []\n",
    "    if data_attr == 'train':\n",
    "        file_list = train_file_list\n",
    "    elif data_attr == 'dev':\n",
    "        file_list = dev_file_list\n",
    "    elif data_attr == 'test':\n",
    "        file_list = test_file_list   \n",
    "    \n",
    "    total_size = 0\n",
    "    for file in file_list:\n",
    "        with h5py.File(file, 'r') as read:\n",
    "            total_size += read[data_attr]['pid'].size\n",
    "    \n",
    "    return total_size\n",
    "        "
   ]
  },
  {
   "cell_type": "code",
   "execution_count": 5,
   "metadata": {},
   "outputs": [],
   "source": [
    "def make_train_str():\n",
    "    \n",
    "    data_attr = 'train'\n",
    "    \n",
    "    print(\"Train file : {}\".format(train_file_list))\n",
    "    print(\"Dev file : {}\".format(dev_file_list))\n",
    "    print(\"Test file : {}\".format(test_file_list))\n",
    "    \n",
    "    size = get_size('train')\n",
    "    \n",
    "    total_file_list = train_file_list\n",
    "    \n",
    "    with h5py.File(\"train_total.h5py\", 'w') as write:\n",
    "        write.create_dataset('product', (size, ), dtype='S612')\n",
    "        write.create_dataset('maker', (size, ), dtype='S288')\n",
    "        write.create_dataset('brand', (size, ), dtype='S131')\n",
    "        write.create_dataset('model', (size, ), dtype='S149')\n",
    "        write.create_dataset('bcateid', (size, ), dtype='i2')\n",
    "        write.create_dataset('mcateid', (size, ), dtype='i2')\n",
    "        write.create_dataset('scateid', (size, ), dtype='i2')\n",
    "        write.create_dataset('dcateid', (size, ), dtype='i2')\n",
    "        write.create_dataset('pid', (size, ))\n",
    "        write.create_dataset('updttm', (size, ))\n",
    "        write.create_dataset('price', (size, ))\n",
    "        \n",
    "        print(\"product shape : {}\".format(write['product'].shape))\n",
    "        \n",
    "        pro_idx = 0\n",
    "        mak_idx = 0\n",
    "        bra_idx = 0\n",
    "        mod_idx = 0\n",
    "        b_idx = 0\n",
    "        m_idx = 0\n",
    "        s_idx = 0\n",
    "        d_idx = 0\n",
    "        \n",
    "        for file in total_file_list:\n",
    "            with h5py.File(file, 'r') as read:\n",
    "                \n",
    "                print(\"current read file : {}\".format(file))\n",
    "                \n",
    "                target = read[data_attr]\n",
    "                sz_pro = target['product'].shape[0]\n",
    "                sz_mak = target['maker'].shape[0]\n",
    "                sz_bra = target['brand'].shape[0]\n",
    "                sz_mod = target['model'].shape[0]\n",
    "                sz_b = target['bcateid'].shape[0]\n",
    "                sz_m = target['mcateid'].shape[0]\n",
    "                sz_s = target['scateid'].shape[0]\n",
    "                sz_d = target['dcateid'].shape[0]\n",
    "                \n",
    "                write['product'][pro_idx:pro_idx+sz_pro] = target['product']\n",
    "                write['maker'][mak_idx:mak_idx+sz_mak] = target['maker']\n",
    "                write['brand'][bra_idx:bra_idx+sz_bra] = target['brand']\n",
    "                write['model'][mod_idx:mod_idx+sz_mod] = target['model']\n",
    "                write['bcateid'][b_idx:b_idx+sz_b] = target['bcateid']\n",
    "                write['mcateid'][m_idx:m_idx+sz_m] = target['mcateid']\n",
    "                write['scateid'][s_idx:s_idx+sz_s] = target['scateid']\n",
    "                write['dcateid'][d_idx:d_idx+sz_d] = target['dcateid']\n",
    "                \n",
    "                pro_idx += sz_pro\n",
    "                mak_idx += sz_mak\n",
    "                bra_idx += sz_bra\n",
    "                mod_idx += sz_mod\n",
    "                b_idx += sz_b\n",
    "                m_idx += sz_m\n",
    "                s_idx += sz_s\n",
    "                d_idx += sz_d\n",
    "\n",
    "                print(\"success save file : {}\".format(file))\n",
    "    "
   ]
  },
  {
   "cell_type": "code",
   "execution_count": 24,
   "metadata": {},
   "outputs": [
    {
     "name": "stdout",
     "output_type": "stream",
     "text": [
      "|S612\n"
     ]
    }
   ],
   "source": [
    "with h5py.File('origin/train.chunk.01', 'r') as read:\n",
    "    print(read['train']['product'].dtype)"
   ]
  },
  {
   "cell_type": "code",
   "execution_count": 8,
   "metadata": {},
   "outputs": [
    {
     "name": "stdout",
     "output_type": "stream",
     "text": [
      "Train file : ['origin/train.chunk.01', 'origin/train.chunk.02', 'origin/train.chunk.03', 'origin/train.chunk.04', 'origin/train.chunk.05', 'origin/train.chunk.06', 'origin/train.chunk.07', 'origin/train.chunk.08', 'origin/train.chunk.09']\n",
      "Dev file : ['origin/dev.chunk.01']\n",
      "Test file : ['origin/test.chunk.01', 'origin/test.chunk.02']\n",
      "product shape : (8134818,)\n",
      "current read file : origin/train.chunk.01\n",
      "success save file : origin/train.chunk.01\n",
      "current read file : origin/train.chunk.02\n",
      "success save file : origin/train.chunk.02\n",
      "current read file : origin/train.chunk.03\n",
      "success save file : origin/train.chunk.03\n",
      "current read file : origin/train.chunk.04\n",
      "success save file : origin/train.chunk.04\n",
      "current read file : origin/train.chunk.05\n",
      "success save file : origin/train.chunk.05\n",
      "current read file : origin/train.chunk.06\n",
      "success save file : origin/train.chunk.06\n",
      "current read file : origin/train.chunk.07\n",
      "success save file : origin/train.chunk.07\n",
      "current read file : origin/train.chunk.08\n",
      "success save file : origin/train.chunk.08\n",
      "current read file : origin/train.chunk.09\n",
      "success save file : origin/train.chunk.09\n"
     ]
    }
   ],
   "source": [
    "make_train_str()"
   ]
  },
  {
   "cell_type": "code",
   "execution_count": 6,
   "metadata": {},
   "outputs": [
    {
     "data": {
      "text/plain": [
       "['bcateid',\n",
       " 'brand',\n",
       " 'dcateid',\n",
       " 'maker',\n",
       " 'mcateid',\n",
       " 'model',\n",
       " 'product',\n",
       " 'scateid']"
      ]
     },
     "execution_count": 6,
     "metadata": {},
     "output_type": "execute_result"
    }
   ],
   "source": [
    "tr_read = h5py.File('train_total.h5py', 'r')\n",
    "list(tr_read.keys())"
   ]
  },
  {
   "cell_type": "code",
   "execution_count": 7,
   "metadata": {},
   "outputs": [],
   "source": [
    "pd_train = pd.DataFrame(columns = tr_read.keys())"
   ]
  },
  {
   "cell_type": "code",
   "execution_count": 8,
   "metadata": {},
   "outputs": [
    {
     "name": "stdout",
     "output_type": "stream",
     "text": [
      "              total        used        free      shared  buff/cache   available\r\n",
      "Mem:      206357056     7435260    88936908       10876   109984888   197072940\r\n",
      "Swap:             0           0           0\r\n"
     ]
    }
   ],
   "source": [
    "!free"
   ]
  },
  {
   "cell_type": "code",
   "execution_count": 9,
   "metadata": {},
   "outputs": [],
   "source": [
    "for col in pd_train.columns:\n",
    "    pd_train[col] = tr_read[col]\n",
    "    if col in ['product', 'maker', 'brand', 'model']:\n",
    "        pd_train[col] = pd_train[col].str.decode('utf-8')"
   ]
  },
  {
   "cell_type": "code",
   "execution_count": 13,
   "metadata": {},
   "outputs": [],
   "source": [
    "import matplotlib.pyplot as plt\n",
    "import seaborn as sns"
   ]
  },
  {
   "cell_type": "code",
   "execution_count": 45,
   "metadata": {},
   "outputs": [
    {
     "name": "stdout",
     "output_type": "stream",
     "text": [
      "null은 아닌데 스트링이 없음....\n",
      "product : 0\n",
      "maker : 2196846\n",
      "brand : 3930113\n",
      "model : 2063425\n"
     ]
    }
   ],
   "source": [
    "print(\"null은 아닌데 스트링이 없음....\")\n",
    "print(\"product : {}\".format(pd_train[pd_train['product'] == '']['product'].count()))\n",
    "print(\"maker : {}\".format(pd_train[pd_train['maker'] == '']['maker'].count()))\n",
    "print(\"brand : {}\".format(pd_train[pd_train['brand'] == '']['brand'].count()))\n",
    "print(\"model : {}\".format(pd_train[pd_train['model'] == '']['model'].count()))"
   ]
  },
  {
   "cell_type": "code",
   "execution_count": 76,
   "metadata": {},
   "outputs": [],
   "source": [
    "product_size = pd_train['product'].map(lambda i: len(i))\n",
    "maker_size = pd_train['maker'].map(lambda i: len(i))\n",
    "brand_size = pd_train['brand'].map(lambda i: len(i))\n",
    "model_size = pd_train['model'].map(lambda i: len(i))"
   ]
  },
  {
   "cell_type": "code",
   "execution_count": 271,
   "metadata": {},
   "outputs": [
    {
     "data": {
      "text/plain": [
       "Text(0.5, 1.0, 'model')"
      ]
     },
     "execution_count": 271,
     "metadata": {},
     "output_type": "execute_result"
    },
    {
     "data": {
      "image/png": "[encoded data removed]",
      "text/plain": [
       "<Figure size 1440x720 with 4 Axes>"
      ]
     },
     "metadata": {
      "needs_background": "light"
     },
     "output_type": "display_data"
    }
   ],
   "source": [
    "fig, ax = plt.subplots(2,2, figsize=(20,10))\n",
    "\n",
    "product_size.plot.hist(bins=np.arange(0, 200, 1), ax=ax[0][0])\n",
    "maker_size.plot.hist(bins=np.arange(1, 30, 1), ax=ax[0][1])\n",
    "brand_size.plot.hist(bins=np.arange(1, 25, 1), ax=ax[1][0])\n",
    "model_size.plot.hist(bins=np.arange(1, 40, 1), ax=ax[1][1])\n",
    "\n",
    "ax[0][0].set_title('product')\n",
    "ax[0][1].set_title('maker')\n",
    "ax[1][0].set_title('brand')\n",
    "ax[1][1].set_title('model')"
   ]
  },
  {
   "cell_type": "code",
   "execution_count": 104,
   "metadata": {},
   "outputs": [
    {
     "data": {
      "image/png": "[encoded data removed]",
      "text/plain": [
       "<Figure size 1440x720 with 4 Axes>"
      ]
     },
     "metadata": {
      "needs_background": "light"
     },
     "output_type": "display_data"
    }
   ],
   "source": [
    "fig, ax = plt.subplots(2,2, figsize=(20,10))\n",
    "\n",
    "pd_train.bcateid.plot.kde(ind=np.arange(1,60,1), ax=ax[0][0])\n",
    "pd_train.mcateid.plot.kde(ind=np.arange(1,600,10), ax=ax[0][1])\n",
    "pd_train.scateid.plot.kde(ind=np.arange(1,3400,50), ax=ax[1][0])\n",
    "pd_train.dcateid.plot.kde(ind=np.arange(1,500,10), ax=ax[1][1])\n",
    "\n",
    "ax[0][0].set_title('B')\n",
    "ax[0][1].set_title('M')\n",
    "ax[1][0].set_title('S')\n",
    "ax[1][1].set_title('D')\n",
    "\n",
    "plt.show()"
   ]
  },
  {
   "cell_type": "code",
   "execution_count": 38,
   "metadata": {},
   "outputs": [],
   "source": [
    "dcate_top = pd_train['dcateid'].value_counts() > 2000\n",
    "# scate_bot = pd_train['scateid'].value_counts() > 2000\n",
    "# mcate_bot = pd_train['mcateid'].value_counts() > 15000\n",
    "# bcate_bot = pd_train['bcateid'].value_counts() > 100000"
   ]
  },
  {
   "cell_type": "code",
   "execution_count": 79,
   "metadata": {
    "collapsed": true
   },
   "outputs": [
    {
     "name": "stdout",
     "output_type": "stream",
     "text": [
      "-1      7376926\n",
      " 5        72344\n",
      " 10       60313\n",
      " 8        53278\n",
      " 6        50747\n",
      " 4        29323\n",
      " 14       26570\n",
      " 39       23715\n",
      " 195      22972\n",
      " 190      17885\n",
      " 41       15444\n",
      " 19       12633\n",
      " 186      11869\n",
      " 188      10118\n",
      " 187       9118\n",
      " 31        9046\n",
      " 20        9015\n",
      " 12        8410\n",
      " 22        8109\n",
      " 30        7604\n",
      " 204       7379\n",
      " 108       6795\n",
      " 2         6367\n",
      " 197       6303\n",
      " 205       6266\n",
      " 13        6233\n",
      " 46        5980\n",
      " 191       5798\n",
      " 40        5302\n",
      " 199       5137\n",
      "         ...   \n",
      " 386         29\n",
      " 243         24\n",
      " 352         24\n",
      " 319         24\n",
      " 369         24\n",
      " 267         23\n",
      " 298         23\n",
      " 403         23\n",
      " 349         23\n",
      " 245         23\n",
      " 380         23\n",
      " 342         22\n",
      " 351         21\n",
      " 354         20\n",
      " 390         19\n",
      " 400         19\n",
      " 399         18\n",
      " 387         18\n",
      " 375         17\n",
      " 394         17\n",
      " 258         17\n",
      " 402         17\n",
      " 392         16\n",
      " 401         15\n",
      " 384         15\n",
      " 397         14\n",
      " 378         14\n",
      " 330         14\n",
      " 376         14\n",
      " 404         11\n",
      "Name: dcateid, Length: 404, dtype: int64\n"
     ]
    }
   ],
   "source": [
    "print(pd_train['dcateid'].value_counts())"
   ]
  },
  {
   "cell_type": "code",
   "execution_count": 39,
   "metadata": {},
   "outputs": [],
   "source": [
    "# b_list = np.array(bcate_bot[bcate_bot==True].index)\n",
    "# m_list = np.array(mcate_bot[mcate_bot==True].index)\n",
    "# s_list = np.array(scate_bot[scate_bot==True].index)\n",
    "d_list = np.array(dcate_top[dcate_top==True].index)"
   ]
  },
  {
   "cell_type": "code",
   "execution_count": 40,
   "metadata": {},
   "outputs": [
    {
     "name": "stdout",
     "output_type": "stream",
     "text": [
      "[ -1   5  10   8   6   4  14  39 195 190  41  19 186 188 187  31  20  12\n",
      "  22  30 204 108   2 197 205  13  46 191  40 199  24 184  17 225  34 201\n",
      " 210  47  55  29 216  27 198  75 194 227  26 196  93  67  82  48 207  36\n",
      " 212 192  54 137 208  66 116  15  61  42 124]\n"
     ]
    }
   ],
   "source": [
    "# print(b_list)\n",
    "# print(m_list)\n",
    "# print(s_list)\n",
    "print(d_list)"
   ]
  },
  {
   "cell_type": "code",
   "execution_count": 27,
   "metadata": {
    "scrolled": false
   },
   "outputs": [
    {
     "data": {
      "text/plain": [
       "(7059080,)"
      ]
     },
     "execution_count": 27,
     "metadata": {},
     "output_type": "execute_result"
    }
   ],
   "source": [
    "b_idx_list=[]\n",
    "for idx in b_list:\n",
    "    bi = np.array(pd_train[pd_train['bcateid'] == idx]['bcateid'].index)\n",
    "    b_idx_list.append(bi)\n",
    "b = np.concatenate(b_idx_list, axis=0)\n",
    "b.shape"
   ]
  },
  {
   "cell_type": "code",
   "execution_count": 28,
   "metadata": {},
   "outputs": [
    {
     "data": {
      "text/plain": [
       "(6408453,)"
      ]
     },
     "execution_count": 28,
     "metadata": {},
     "output_type": "execute_result"
    }
   ],
   "source": [
    "m_idx_list=[]\n",
    "for idx in m_list:\n",
    "    mi = np.array(pd_train[pd_train['mcateid'] == idx]['mcateid'].index)\n",
    "    m_idx_list.append(mi)\n",
    "m = np.concatenate(m_idx_list, axis=0)\n",
    "m.shape"
   ]
  },
  {
   "cell_type": "code",
   "execution_count": 29,
   "metadata": {},
   "outputs": [
    {
     "data": {
      "text/plain": [
       "(4982630,)"
      ]
     },
     "execution_count": 29,
     "metadata": {},
     "output_type": "execute_result"
    }
   ],
   "source": [
    "s_idx_list=[]\n",
    "for idx in s_list:\n",
    "    si = np.array(pd_train[pd_train['scateid'] == idx]['scateid'].index)\n",
    "    s_idx_list.append(si)\n",
    "s = np.concatenate(s_idx_list, axis=0)\n",
    "s.shape"
   ]
  },
  {
   "cell_type": "code",
   "execution_count": 86,
   "metadata": {},
   "outputs": [
    {
     "data": {
      "text/plain": [
       "(806000,)"
      ]
     },
     "execution_count": 86,
     "metadata": {},
     "output_type": "execute_result"
    }
   ],
   "source": [
    "d_idx_list = []\n",
    "boundary = 2000\n",
    "dcatesize = 405\n",
    "for i in range(2, dcatesize):\n",
    "    if pd_train['dcateid'].value_counts()[i] > boundary :\n",
    "        di = np.array(pd_train[pd_train['dcateid'] == idx]['dcateid'].index) # 카테고리 별 인덱스 수\n",
    "        di = np.random.choice(di, boundary)\n",
    "        d_idx_list.append(di)\n",
    "    else :\n",
    "        di = np.array(pd_train[pd_train['dcateid'] == idx]['dcateid'].index) # 카테고리 별 인덱스 수\n",
    "        di = np.random.choice(di, boundary, replace=True)\n",
    "        d_idx_list.append(di)\n",
    "    \n",
    "d = np.concatenate(d_idx_list, axis=0)\n",
    "d.shape # index 중복 포함\n"
   ]
  },
  {
   "cell_type": "code",
   "execution_count": 87,
   "metadata": {},
   "outputs": [
    {
     "name": "stdout",
     "output_type": "stream",
     "text": [
      "983763\n",
      "7230130\n"
     ]
    },
    {
     "data": {
      "text/plain": [
       "(806000,)"
      ]
     },
     "execution_count": 87,
     "metadata": {},
     "output_type": "execute_result"
    }
   ],
   "source": [
    "print(d[3])\n",
    "np.random.shuffle(d) # shuffle\n",
    "\n",
    "print(d[3])\n",
    "d.shape"
   ]
  },
  {
   "cell_type": "code",
   "execution_count": 88,
   "metadata": {},
   "outputs": [],
   "source": [
    "# origin_pro = h5py.File('origin/X_train_product.h5py', 'r')\n",
    "# origin_mak = h5py.File('origin/X_train_maker.h5py', 'r')\n",
    "# origin_bra = h5py.File('origin/X_train_brand.h5py', 'r')\n",
    "# origin_mod = h5py.File('origin/X_train_model.h5py', 'r')\n",
    "origin_con = h5py.File('origin/X_train_concate_2.h5py', 'r')\n",
    "# origin_img = h5py.File('origin/X_train_img_feat.h5py', 'r')\n",
    "\n",
    "# origin_b = h5py.File('origin/y_train_bcateid.h5py', 'r')\n",
    "# origin_m = h5py.File('origin/y_train_mcateid.h5py', 'r')\n",
    "# origin_s = h5py.File('origin/y_train_scateid.h5py', 'r')\n",
    "origin_d = h5py.File('origin/y_train_dcateid.h5py', 'r')"
   ]
  },
  {
   "cell_type": "code",
   "execution_count": 89,
   "metadata": {},
   "outputs": [],
   "source": [
    "# np_pro = np.array(origin_pro['train'])\n",
    "# np_mak = np.array(origin_mak['train'])\n",
    "# np_bra = np.array(origin_bra['train'])\n",
    "# np_mod = np.array(origin_mod['train'])\n",
    "np_con = np.array(origin_con['train'])\n",
    "\n",
    "# np_img = np.array(origin_img['train'])\n",
    "\n",
    "# np_b = np.array(origin_b['train'])\n",
    "# np_m = np.array(origin_m['train'])\n",
    "# np_s = np.array(origin_s['train'])\n",
    "np_d = np.array(origin_d['train'])"
   ]
  },
  {
   "cell_type": "code",
   "execution_count": 95,
   "metadata": {},
   "outputs": [],
   "source": [
    "np_con_list = []\n",
    "np_d_list = []\n",
    "# index 따라 추출\n",
    "for idx in d:\n",
    "    if idx > np_con.shape[0]: # out of train range\n",
    "        continue\n",
    "    np_con_list.append(np_con[idx])\n",
    "    np_d_list.append(np_d[idx])\n"
   ]
  },
  {
   "cell_type": "code",
   "execution_count": 102,
   "metadata": {},
   "outputs": [],
   "source": [
    "np_con = np.array(np_con_list)\n",
    "np_d = np.array(np_d_list)"
   ]
  },
  {
   "cell_type": "code",
   "execution_count": 103,
   "metadata": {},
   "outputs": [
    {
     "name": "stdout",
     "output_type": "stream",
     "text": [
      "(660754, 32)\n",
      "(660754, 405)\n"
     ]
    }
   ],
   "source": [
    "print(np_con.shape)\n",
    "print(np_d.shape)"
   ]
  },
  {
   "cell_type": "code",
   "execution_count": 42,
   "metadata": {},
   "outputs": [
    {
     "name": "stderr",
     "output_type": "stream",
     "text": [
      "/usr/local/lib/python3.5/dist-packages/ipykernel_launcher.py:25: DeprecationWarning: in the future out of bounds indices will raise an error instead of being ignored by `numpy.delete`.\n"
     ]
    }
   ],
   "source": [
    "# np_pro = np.delete(np_pro, b, 0)\n",
    "# np_mak = np.delete(np_mak, b, 0)\n",
    "# np_bra = np.delete(np_bra, b, 0)\n",
    "# np_mod = np.delete(np_mod, b, 0)\n",
    "\n",
    "# np_pro = np.delete(np_pro, m, 0)\n",
    "# np_mak = np.delete(np_mak, m, 0)\n",
    "# np_bra = np.delete(np_bra, m, 0)\n",
    "# np_mod = np.delete(np_mod, m, 0)\n",
    "\n",
    "# np_pro = np.delete(np_pro, s, 0)\n",
    "# np_mak = np.delete(np_mak, s, 0)\n",
    "# np_bra = np.delete(np_bra, s, 0)\n",
    "# np_mod = np.delete(np_mod, s, 0)\n",
    "\n",
    "# np_pro = np.delete(np_pro, d, 0)\n",
    "# np_mak = np.delete(np_mak, d, 0)\n",
    "# np_bra = np.delete(np_bra, d, 0)\n",
    "# np_mod = np.delete(np_mod, d, 0)\n",
    "# np_con = np.delete(np_con, d, 0)\n",
    "\n",
    "# np_img_b = np.delete(np_img, b, 0)\n",
    "# np_img_m = np.delete(np_img, m, 0)\n",
    "# np_img_s = np.delete(np_img, s, 0)\n",
    "# np_img_d = np.delete(np_img, d, 0)\n",
    "\n",
    "# np_b = np.delete(np_b, b, 0)\n",
    "# np_m = np.delete(np_m, m, 0)\n",
    "# np_s = np.delete(np_s, s, 0)\n",
    "# np_d = np.delete(np_d, d, 0)"
   ]
  },
  {
   "cell_type": "code",
   "execution_count": 43,
   "metadata": {},
   "outputs": [
    {
     "name": "stdout",
     "output_type": "stream",
     "text": [
      "(101913, 2048)\n"
     ]
    }
   ],
   "source": [
    "# print(np_pro.shape)\n",
    "# print(np_mak.shape)\n",
    "# print(np_bra.shape)\n",
    "# print(np_mod.shape)\n",
    "# print(np_con.shape)\n",
    "\n",
    "# print(np_img_b.shape)\n",
    "# print(np_img_m.shape)\n",
    "# print(np_img_s.shape)\n",
    "# print(np_img_d.shape)\n",
    "\n",
    "# print(np_b.shape)\n",
    "# print(np_m.shape)\n",
    "# print(np_s.shape)\n",
    "# print(np_d.shape)\n"
   ]
  },
  {
   "cell_type": "code",
   "execution_count": 104,
   "metadata": {},
   "outputs": [],
   "source": [
    "path = 'dcate/'"
   ]
  },
  {
   "cell_type": "code",
   "execution_count": 105,
   "metadata": {},
   "outputs": [],
   "source": [
    "h = h5py.File(path+'X_train_concate_uniform_d.h5py', 'w')\n",
    "h.create_dataset('train', (np_con.shape[0], np_con.shape[1]), data=np_con)\n",
    "h.close()"
   ]
  },
  {
   "cell_type": "code",
   "execution_count": 106,
   "metadata": {},
   "outputs": [],
   "source": [
    "h = h5py.File(path+'y_dcateid_uniform_d.h5py', 'w')\n",
    "h.create_dataset('train', (np_d.shape[0], np_d.shape[1]), data=np_d)\n",
    "h.close()"
   ]
  },
  {
   "cell_type": "markdown",
   "metadata": {},
   "source": [
    "## B cate"
   ]
  },
  {
   "cell_type": "code",
   "execution_count": 34,
   "metadata": {},
   "outputs": [],
   "source": [
    "h = h5py.File(path+'X_train_product_low_for_d.h5py', 'w')\n",
    "h.create_dataset('train', (np_pro.shape[0], np_pro.shape[1]), data=np_pro)\n",
    "h.close()"
   ]
  },
  {
   "cell_type": "code",
   "execution_count": 35,
   "metadata": {},
   "outputs": [],
   "source": [
    "h = h5py.File(path+'X_train_maker_low_for_d.h5py', 'w')\n",
    "h.create_dataset('train', (np_mak.shape[0], np_mak.shape[1]), data=np_mak)\n",
    "h.close()"
   ]
  },
  {
   "cell_type": "code",
   "execution_count": 36,
   "metadata": {},
   "outputs": [],
   "source": [
    "h = h5py.File(path+'X_train_brand_low_for_d.h5py', 'w')\n",
    "h.create_dataset('train', (np_bra.shape[0], np_bra.shape[1]), data=np_bra)\n",
    "h.close()"
   ]
  },
  {
   "cell_type": "code",
   "execution_count": 37,
   "metadata": {},
   "outputs": [],
   "source": [
    "h = h5py.File(path+'X_train_model_low_for_d.h5py', 'w')\n",
    "h.create_dataset('train', (np_mod.shape[0], np_mod.shape[1]), data=np_mod)\n",
    "h.close()"
   ]
  },
  {
   "cell_type": "code",
   "execution_count": 38,
   "metadata": {},
   "outputs": [],
   "source": [
    "h = h5py.File(path+'X_train_concate_low_for_d.h5py', 'w')\n",
    "h.create_dataset('train', (np_con.shape[0], np_con.shape[1]), data=np_con)\n",
    "h.close()"
   ]
  },
  {
   "cell_type": "code",
   "execution_count": 39,
   "metadata": {},
   "outputs": [],
   "source": [
    "h = h5py.File(path+'y_dcateid_low_for_d.h5py', 'w')\n",
    "h.create_dataset('train', (np_d.shape[0], np_d.shape[1]), data=np_d)\n",
    "h.close()"
   ]
  },
  {
   "cell_type": "code",
   "execution_count": 45,
   "metadata": {},
   "outputs": [],
   "source": [
    "h = h5py.File(path+'X_img_low_for_d.h5py', 'w')\n",
    "h.create_dataset('train', (np_img_d.shape[0], np_img_d.shape[1]), data=np_img_d)\n",
    "h.close()"
   ]
  },
  {
   "cell_type": "markdown",
   "metadata": {},
   "source": [
    "## M cate"
   ]
  },
  {
   "cell_type": "code",
   "execution_count": null,
   "metadata": {},
   "outputs": [],
   "source": []
  },
  {
   "cell_type": "code",
   "execution_count": null,
   "metadata": {},
   "outputs": [],
   "source": []
  },
  {
   "cell_type": "code",
   "execution_count": null,
   "metadata": {},
   "outputs": [],
   "source": []
  },
  {
   "cell_type": "code",
   "execution_count": null,
   "metadata": {},
   "outputs": [],
   "source": []
  },
  {
   "cell_type": "code",
   "execution_count": null,
   "metadata": {},
   "outputs": [],
   "source": []
  },
  {
   "cell_type": "code",
   "execution_count": 25,
   "metadata": {},
   "outputs": [
    {
     "name": "stdout",
     "output_type": "stream",
     "text": [
      "              total        used        free      shared  buff/cache   available\r\n",
      "Mem:      206357056     5231216   116556068       10872    84569772   199277000\r\n",
      "Swap:             0           0           0\r\n"
     ]
    }
   ],
   "source": [
    "!free"
   ]
  },
  {
   "cell_type": "code",
   "execution_count": null,
   "metadata": {},
   "outputs": [],
   "source": []
  }
 ],
 "metadata": {
  "kernelspec": {
   "display_name": "Python 3",
   "language": "python",
   "name": "python3"
  },
  "language_info": {
   "codemirror_mode": {
    "name": "ipython",
    "version": 3
   },
   "file_extension": ".py",
   "mimetype": "text/x-python",
   "name": "python",
   "nbconvert_exporter": "python",
   "pygments_lexer": "ipython3",
   "version": "3.6.8"
  }
 },
 "nbformat": 4,
 "nbformat_minor": 2
}
