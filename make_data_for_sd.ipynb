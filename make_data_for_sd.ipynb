{
 "cells": [
  {
   "cell_type": "code",
   "execution_count": null,
   "metadata": {},
   "outputs": [],
   "source": [
    "# !python3 -m pip install --user sklearn"
   ]
  },
  {
   "cell_type": "code",
   "execution_count": 1,
   "metadata": {},
   "outputs": [],
   "source": [
    "import h5py\n",
    "import tensorflow as tf\n",
    "import pandas as pd\n",
    "import numpy as np\n",
    "# import matplotlib.pyplot as plt\n",
    "# %matplotlib inline\n",
    "\n",
    "from tensorflow.keras.preprocessing.text import Tokenizer\n",
    "from tensorflow.keras.preprocessing.sequence import pad_sequences\n",
    "from tensorflow.keras.layers import Dense, Input, LSTM, Embedding, Dropout, Activation, Reshape, Concatenate, Add\n",
    "from tensorflow.keras.layers import Bidirectional, GlobalMaxPool1D, BatchNormalization\n",
    "from tensorflow.keras.models import Model, Sequential\n",
    "from tensorflow.keras import initializers, regularizers, constraints, optimizers, layers\n",
    "from tensorflow.keras.utils import Sequence, to_categorical\n",
    "from tensorflow.keras.callbacks import EarlyStopping, ModelCheckpoint, ReduceLROnPlateau\n",
    "from tensorflow.keras.models import save_model, load_model\n",
    "from tensorflow.keras.optimizers import Adam, RMSprop\n",
    "\n",
    "import os, sys, re, codecs"
   ]
  },
  {
   "cell_type": "code",
   "execution_count": 2,
   "metadata": {},
   "outputs": [
    {
     "data": {
      "text/plain": [
       "'grpc://10.143.23.2:8470'"
      ]
     },
     "execution_count": 2,
     "metadata": {},
     "output_type": "execute_result"
    }
   ],
   "source": [
    "TPU_SERVER = '10.143.23.2'\n",
    "TPU_PORT = ':8470'\n",
    "TPU_WORKER = 'grpc://' + TPU_SERVER + TPU_PORT\n",
    "TPU_WORKER"
   ]
  },
  {
   "cell_type": "code",
   "execution_count": 2,
   "metadata": {},
   "outputs": [],
   "source": [
    "def generate_model(max_features, max_len, embed_size, tg_cate_size):\n",
    "    inputs = []\n",
    "    embeddings = []\n",
    "\n",
    "    inp_product  = Input(shape=(max_len, ))\n",
    "    embedding = Embedding(max_features, embed_size, input_length=max_len)(inp_product)\n",
    "    embedding = Reshape(target_shape=(max_len*embed_size,))(embedding)\n",
    "    embedding = Dense(256, activation='relu')(embedding)\n",
    "    inputs.append(inp_product)\n",
    "    embeddings.append(embedding)\n",
    "\n",
    "    inp_model  = Input(shape=(max_len, ))\n",
    "    embedding = Embedding(max_features, embed_size, input_length=max_len)(inp_model)\n",
    "    embedding = Reshape(target_shape=(max_len*embed_size,))(embedding)\n",
    "    embedding = Dense(256, activation='relu')(embedding)\n",
    "    inputs.append(inp_model)\n",
    "    embeddings.append(embedding)\n",
    "\n",
    "    inp_brand  = Input(shape=(max_len, ))\n",
    "    embedding = Embedding(max_features, embed_size, input_length=max_len)(inp_brand)\n",
    "    embedding = Reshape(target_shape=(max_len*embed_size,))(embedding)\n",
    "    embedding = Dense(256, activation='relu')(embedding)\n",
    "    inputs.append(inp_brand)\n",
    "    embeddings.append(embedding)\n",
    "\n",
    "    inp_maker  = Input(shape=(max_len, ))\n",
    "    embedding = Embedding(max_features, embed_size, input_length=max_len)(inp_maker)\n",
    "    embedding = Reshape(target_shape=(max_len*embed_size,))(embedding)\n",
    "    embedding = Dense(256, activation='relu')(embedding)\n",
    "    inputs.append(inp_maker)\n",
    "    embeddings.append(embedding)\n",
    "\n",
    "    inp_img = Input(shape=(2048, ))\n",
    "    feat = Dropout(0.4)(inp_img)\n",
    "    feat = Dense(256, activation='relu')(feat)\n",
    "    inputs.append(inp_img)\n",
    "    embeddings.append(feat)\n",
    "\n",
    "    x = Concatenate()(embeddings)\n",
    "    x = Dropout(0.3)(x)\n",
    "    x = Dense(512, activation='relu')(x)\n",
    "    x = Dropout(0.3)(x)\n",
    "    x = Dense(256, activation='relu')(x)\n",
    "\n",
    "    # decoder1 = add([x, feat])\n",
    "    # decoder2 = Dense(256, activation='relu')(decoder1)\n",
    "    output = Dense(tg_cate_size, activation='softmax')(x)\n",
    "\n",
    "    model = Model(inputs, output)\n",
    "    # model.compile(loss='categorical_crossentropy', optimizer=Adam(), metrics=['accuracy'])\n",
    "\n",
    "    model.summary()\n",
    "    \n",
    "    return model"
   ]
  },
  {
   "cell_type": "code",
   "execution_count": 3,
   "metadata": {
    "scrolled": true
   },
   "outputs": [
    {
     "name": "stdout",
     "output_type": "stream",
     "text": [
      "              total        used        free      shared  buff/cache   available\r\n",
      "Mem:      206357056     5363328   116423776       10872    84569952   199144892\r\n",
      "Swap:             0           0           0\r\n"
     ]
    }
   ],
   "source": [
    "!free"
   ]
  },
  {
   "cell_type": "code",
   "execution_count": 4,
   "metadata": {},
   "outputs": [],
   "source": [
    "def data_generator(list_X, y, batch_size, total_size):\n",
    "    start_idx = 0\n",
    "    end_idx = 0\n",
    "    \n",
    "    while True:\n",
    "        if (start_idx + batch_size) >= total_size:\n",
    "            start_idx = 0\n",
    "            end_idx = 0\n",
    "        \n",
    "        end_idx += batch_size\n",
    "        batch_X = []\n",
    "        for X in list_X:\n",
    "            batch_X.append(X[start_idx:end_idx])\n",
    "            \n",
    "        batch_y = np.array(y[start_idx:end_idx])\n",
    "        start_idx = end_idx        \n",
    "        \n",
    "        yield batch_X, batch_y"
   ]
  },
  {
   "cell_type": "code",
   "execution_count": 2,
   "metadata": {},
   "outputs": [
    {
     "name": "stdout",
     "output_type": "stream",
     "text": [
      "Product / train : (6507854, 32), val : (1626964, 32)\n",
      "Maker / train : (6507854, 32), val : (1626964, 32)\n",
      "Brand / train : (6507854, 32), val : (1626964, 32)\n",
      "Model / train : (6507854, 32), val : (1626964, 32)\n",
      "Image / train : (6507854, 2048), val : (1626964, 2048)\n",
      "Concate / train : (6507854, 32), val : (1626964, 32)\n",
      "B cate / train : (6507854, 57), val : (1626964, 57)\n",
      "M cate / train : (6507854, 552), val : (1626964, 552)\n",
      "S cate / train : (6507854, 3191), val : (1626964, 3191)\n",
      "D cate / train : (6507854, 405), val : (1626964, 405)\n"
     ]
    }
   ],
   "source": [
    "X_product = h5py.File('origin/X_train_product.h5py', 'r')\n",
    "X_maker = h5py.File('origin/X_train_maker.h5py', 'r')\n",
    "X_brand = h5py.File('origin/X_train_brand.h5py', 'r')\n",
    "X_model = h5py.File('origin/X_train_model.h5py', 'r')\n",
    "X_image = h5py.File('origin/X_train_img_feat.h5py', 'r')\n",
    "X_con = h5py.File('origin/X_train_concate.h5py', 'r')\n",
    "\n",
    "y_b_cate = h5py.File('origin/y_train_bcateid.h5py', 'r')\n",
    "y_m_cate = h5py.File('origin/y_train_mcateid.h5py', 'r')\n",
    "y_s_cate = h5py.File('origin/y_train_scateid.h5py', 'r')\n",
    "y_d_cate = h5py.File('origin/y_train_dcateid.h5py', 'r')\n",
    "\n",
    "print(\"Product / train : {}, val : {}\".format(X_product['train'].shape, X_product['val'].shape))\n",
    "print(\"Maker / train : {}, val : {}\".format(X_maker['train'].shape, X_maker['val'].shape))\n",
    "print(\"Brand / train : {}, val : {}\".format(X_brand['train'].shape, X_brand['val'].shape))\n",
    "print(\"Model / train : {}, val : {}\".format(X_model['train'].shape, X_model['val'].shape))\n",
    "print(\"Image / train : {}, val : {}\".format(X_image['train'].shape, X_image['val'].shape))\n",
    "print(\"Concate / train : {}, val : {}\".format(X_con['train'].shape, X_con['val'].shape))\n",
    "\n",
    "print(\"B cate / train : {}, val : {}\".format(y_b_cate['train'].shape, y_b_cate['val'].shape))\n",
    "print(\"M cate / train : {}, val : {}\".format(y_m_cate['train'].shape, y_m_cate['val'].shape))\n",
    "print(\"S cate / train : {}, val : {}\".format(y_s_cate['train'].shape, y_s_cate['val'].shape))\n",
    "print(\"D cate / train : {}, val : {}\".format(y_d_cate['train'].shape, y_d_cate['val'].shape))"
   ]
  },
  {
   "cell_type": "code",
   "execution_count": 3,
   "metadata": {},
   "outputs": [
    {
     "name": "stdout",
     "output_type": "stream",
     "text": [
      "(6507854,)\n",
      "(1626964,)\n",
      "(6507854,)\n",
      "(1626964,)\n"
     ]
    }
   ],
   "source": [
    "s_train_removed = np.array(y_s_cate['train'][:,0])\n",
    "s_val_removed = np.array(y_s_cate['val'][:,0])\n",
    "\n",
    "d_train_removed = np.array(y_d_cate['train'][:,0])\n",
    "d_val_removed = np.array(y_d_cate['val'][:,0])\n",
    "\n",
    "print(s_train_removed.shape)\n",
    "print(s_val_removed.shape)\n",
    "print(d_train_removed.shape)\n",
    "print(d_val_removed.shape)"
   ]
  },
  {
   "cell_type": "code",
   "execution_count": 10,
   "metadata": {},
   "outputs": [],
   "source": [
    "y_m_tr = y_m_cate['train'][:]\n",
    "y_m_val = y_m_cate['val'][:]"
   ]
  },
  {
   "cell_type": "code",
   "execution_count": 11,
   "metadata": {},
   "outputs": [
    {
     "name": "stdout",
     "output_type": "stream",
     "text": [
      "(5055885, 552)\n",
      "(1212813, 552)\n"
     ]
    }
   ],
   "source": [
    "y_m_tr_rm_s = y_m_tr[s_train_removed[:] == 0]\n",
    "y_m_val_rm_s = y_m_val[s_val_removed[:] == 0]\n",
    "\n",
    "print(y_m_tr_rm_s.shape)\n",
    "print(y_m_val_rm_s.shape)"
   ]
  },
  {
   "cell_type": "code",
   "execution_count": 12,
   "metadata": {},
   "outputs": [],
   "source": [
    "with h5py.File('./origin/y_mcateid_rm_for_s.h5py', 'w') as write:\n",
    "    write.create_dataset('train', (5055885, 552), dtype='?')\n",
    "    write.create_dataset('val', (1212813, 552), dtype='?')\n",
    "    \n",
    "    write['train'][:] = y_m_tr_rm_s[:]\n",
    "    write['val'][:] = y_m_val_rm_s[:]"
   ]
  },
  {
   "cell_type": "code",
   "execution_count": 13,
   "metadata": {},
   "outputs": [
    {
     "name": "stdout",
     "output_type": "stream",
     "text": [
      "(607560, 552)\n",
      "(150332, 552)\n"
     ]
    }
   ],
   "source": [
    "y_m_tr_rm_d = y_m_tr[d_train_removed[:] == 0]\n",
    "y_m_val_rm_d = y_m_val[d_val_removed[:] == 0]\n",
    "\n",
    "print(y_m_tr_rm_d.shape)\n",
    "print(y_m_val_rm_d.shape)"
   ]
  },
  {
   "cell_type": "code",
   "execution_count": 14,
   "metadata": {},
   "outputs": [],
   "source": [
    "with h5py.File('./origin/y_mcateid_rm_for_d.h5py', 'w') as write:\n",
    "    write.create_dataset('train', (607560, 552), dtype='?')\n",
    "    write.create_dataset('val', (150332, 552), dtype='?')\n",
    "    \n",
    "    write['train'][:] = y_m_tr_rm_d[:]\n",
    "    write['val'][:] = y_m_val_rm_d[:]"
   ]
  },
  {
   "cell_type": "code",
   "execution_count": null,
   "metadata": {},
   "outputs": [],
   "source": []
  },
  {
   "cell_type": "code",
   "execution_count": 15,
   "metadata": {},
   "outputs": [],
   "source": [
    "y_b_tr = y_b_cate['train'][:]\n",
    "y_b_val = y_b_cate['val'][:]"
   ]
  },
  {
   "cell_type": "code",
   "execution_count": 16,
   "metadata": {},
   "outputs": [
    {
     "name": "stdout",
     "output_type": "stream",
     "text": [
      "(5055885, 57)\n",
      "(1212813, 57)\n"
     ]
    }
   ],
   "source": [
    "y_b_tr_removed = y_b_tr[s_train_removed[:] == 0]\n",
    "y_b_val_removed = y_b_val[s_val_removed[:] == 0]\n",
    "\n",
    "print(y_b_tr_removed.shape)\n",
    "print(y_b_val_removed.shape)"
   ]
  },
  {
   "cell_type": "code",
   "execution_count": 17,
   "metadata": {},
   "outputs": [],
   "source": [
    "with h5py.File('./origin/y_bcateid_rm_for_s.h5py', 'w') as write:\n",
    "    write.create_dataset('train', (5055885, 57), dtype='?')\n",
    "    write.create_dataset('val', (1212813, 57), dtype='?')\n",
    "    \n",
    "    write['train'][:] = y_b_tr_removed[:]\n",
    "    write['val'][:] = y_b_val_removed[:]"
   ]
  },
  {
   "cell_type": "code",
   "execution_count": 18,
   "metadata": {},
   "outputs": [
    {
     "name": "stdout",
     "output_type": "stream",
     "text": [
      "(607560, 57)\n",
      "(150332, 57)\n"
     ]
    }
   ],
   "source": [
    "y_b_tr_rm_d = y_b_tr[d_train_removed[:] == 0]\n",
    "y_b_val_rm_d = y_b_val[d_val_removed[:] == 0]\n",
    "\n",
    "print(y_b_tr_rm_d.shape)\n",
    "print(y_b_val_rm_d.shape)"
   ]
  },
  {
   "cell_type": "code",
   "execution_count": 19,
   "metadata": {},
   "outputs": [],
   "source": [
    "with h5py.File('./origin/y_bcateid_rm_for_d.h5py', 'w') as write:\n",
    "    write.create_dataset('train', (607560, 57), dtype='?')\n",
    "    write.create_dataset('val', (150332, 57), dtype='?')\n",
    "    \n",
    "    write['train'][:] = y_b_tr_rm_d[:]\n",
    "    write['val'][:] = y_b_val_rm_d[:]"
   ]
  },
  {
   "cell_type": "code",
   "execution_count": 4,
   "metadata": {},
   "outputs": [],
   "source": [
    "X_img_tr = X_image['train'][:]\n",
    "X_img_val = X_image['val'][:]"
   ]
  },
  {
   "cell_type": "code",
   "execution_count": null,
   "metadata": {},
   "outputs": [],
   "source": [
    "!free"
   ]
  },
  {
   "cell_type": "code",
   "execution_count": 25,
   "metadata": {},
   "outputs": [
    {
     "ename": "NameError",
     "evalue": "name 'X_img_train' is not defined",
     "output_type": "error",
     "traceback": [
      "\u001b[0;31m---------------------------------------------------------------------------\u001b[0m",
      "\u001b[0;31mNameError\u001b[0m                                 Traceback (most recent call last)",
      "\u001b[0;32m<ipython-input-25-53ded174da8a>\u001b[0m in \u001b[0;36m<module>\u001b[0;34m\u001b[0m\n\u001b[0;32m----> 1\u001b[0;31m \u001b[0mX_img_train\u001b[0m\u001b[0;34m.\u001b[0m\u001b[0mshape\u001b[0m\u001b[0;34m\u001b[0m\u001b[0m\n\u001b[0m\u001b[1;32m      2\u001b[0m \u001b[0mX_img_val\u001b[0m\u001b[0;34m.\u001b[0m\u001b[0mshape\u001b[0m\u001b[0;34m\u001b[0m\u001b[0m\n",
      "\u001b[0;31mNameError\u001b[0m: name 'X_img_train' is not defined"
     ]
    }
   ],
   "source": [
    "# X_img_train.shape\n",
    "# X_img_val.shape"
   ]
  },
  {
   "cell_type": "code",
   "execution_count": 5,
   "metadata": {},
   "outputs": [
    {
     "name": "stdout",
     "output_type": "stream",
     "text": [
      "(5055885, 2048)\n"
     ]
    }
   ],
   "source": [
    "X_img_s_tr = X_img_tr[s_train_removed[:] == 0]\n",
    "# X_img_s_val = X_img_val[s_val_removed[:] == 0]\n",
    "\n",
    "print(X_img_s_tr.shape)\n",
    "# print(X_img_s_val.shape)"
   ]
  },
  {
   "cell_type": "code",
   "execution_count": 6,
   "metadata": {},
   "outputs": [],
   "source": [
    "with h5py.File('scate/X_image_rm_s.h5py', 'w') as write:\n",
    "    write.create_dataset('train', (5055885, 2048), dtype='f4')\n",
    "#     write.create_dataset('val', (1626964, 2048), dtype='f4')\n",
    "    \n",
    "    write['train'][:] = X_img_s_tr[:]\n",
    "#     write['val'][:] = X_img_s_val[:]\n",
    "    "
   ]
  },
  {
   "cell_type": "code",
   "execution_count": 7,
   "metadata": {},
   "outputs": [
    {
     "name": "stdout",
     "output_type": "stream",
     "text": [
      "(607560, 2048)\n"
     ]
    }
   ],
   "source": [
    "X_img_d_tr = X_img_tr[d_train_removed[:] == 0]\n",
    "# X_img_d_val = X_img_val[d_val_removed[:] == 0]\n",
    "\n",
    "print(X_img_d_tr.shape)\n",
    "# print(X_img_d_val.shape)"
   ]
  },
  {
   "cell_type": "code",
   "execution_count": 8,
   "metadata": {},
   "outputs": [],
   "source": [
    "with h5py.File('dcate/X_image_rm_d.h5py', 'w') as write:\n",
    "    write.create_dataset('train', (607560, 2048), dtype='f4')\n",
    "#     write.create_dataset('val', (1626964, 2048), dtype='f4')\n",
    "    \n",
    "    write['train'][:] = X_img_d_tr[:]\n",
    "#     write['val'][:] = X_img_d_val[:]\n",
    "    "
   ]
  },
  {
   "cell_type": "code",
   "execution_count": 9,
   "metadata": {},
   "outputs": [
    {
     "name": "stdout",
     "output_type": "stream",
     "text": [
      "(1212813, 2048)\n"
     ]
    }
   ],
   "source": [
    "# X_img_s_tr = X_img_tr[s_train_removed[:] == 0]\n",
    "X_img_s_val = X_img_val[s_val_removed[:] == 0]\n",
    "\n",
    "# print(X_img_s_tr.shape)\n",
    "print(X_img_s_val.shape)"
   ]
  },
  {
   "cell_type": "code",
   "execution_count": 10,
   "metadata": {},
   "outputs": [],
   "source": [
    "with h5py.File('scate/X_image_rm_s.h5py', 'r+') as write:\n",
    "#     write.create_dataset('train', (6507854, 32), dtype='f4')\n",
    "    write.create_dataset('val', (1212813, 2048), dtype='f4')\n",
    "    \n",
    "#     write['train'][:] = X_img_s_tr[:]\n",
    "    write['val'][:] = X_img_s_val[:]\n",
    "    "
   ]
  },
  {
   "cell_type": "code",
   "execution_count": 11,
   "metadata": {},
   "outputs": [
    {
     "name": "stdout",
     "output_type": "stream",
     "text": [
      "(150332, 2048)\n"
     ]
    }
   ],
   "source": [
    "# X_img_d_tr = X_img_tr[d_train_removed[:] == 0]\n",
    "X_img_d_val = X_img_val[d_val_removed[:] == 0]\n",
    "\n",
    "# print(X_img_d_tr.shape)\n",
    "print(X_img_d_val.shape)"
   ]
  },
  {
   "cell_type": "code",
   "execution_count": 12,
   "metadata": {},
   "outputs": [],
   "source": [
    "with h5py.File('dcate/X_image_rm_d.h5py', 'r+') as write:\n",
    "#     write.create_dataset('train', (6507854, 32), dtype='f4')\n",
    "    write.create_dataset('val', (150332, 2048), dtype='f4')\n",
    "    \n",
    "#     write['train'][:] = X_img_d_tr[:]\n",
    "    write['val'][:] = X_img_d_val[:]\n",
    "    "
   ]
  },
  {
   "cell_type": "code",
   "execution_count": null,
   "metadata": {},
   "outputs": [],
   "source": []
  },
  {
   "cell_type": "code",
   "execution_count": 8,
   "metadata": {},
   "outputs": [],
   "source": [
    "y_s_tr = y_s_cate['train'][:]\n",
    "y_s_val = y_s_cate['val'][:]"
   ]
  },
  {
   "cell_type": "code",
   "execution_count": 9,
   "metadata": {},
   "outputs": [
    {
     "name": "stdout",
     "output_type": "stream",
     "text": [
      "(5055885, 3191)\n",
      "(1212813, 3191)\n"
     ]
    }
   ],
   "source": [
    "y_s_tr_removed = y_s_tr[s_train_removed[:] == 0]\n",
    "y_s_val_removed = y_s_val[s_val_removed[:] == 0]\n",
    "\n",
    "print(y_s_tr_removed.shape)\n",
    "print(y_s_val_removed.shape)"
   ]
  },
  {
   "cell_type": "code",
   "execution_count": 10,
   "metadata": {},
   "outputs": [],
   "source": [
    "with h5py.File('./origin/y_scateid_rm.h5py', 'w') as write:\n",
    "    write.create_dataset('train', (5055885, 3191), dtype='?')\n",
    "    write.create_dataset('val', (1212813, 3191), dtype='?')\n",
    "    \n",
    "    write['train'][:] = y_s_tr_removed[:]\n",
    "    write['val'][:] = y_s_val_removed[:]"
   ]
  },
  {
   "cell_type": "code",
   "execution_count": 22,
   "metadata": {},
   "outputs": [
    {
     "name": "stdout",
     "output_type": "stream",
     "text": [
      "(607560, 3191)\n",
      "(150332, 3191)\n"
     ]
    }
   ],
   "source": [
    "y_s_tr_rm_d = y_s_tr[d_train_removed[:] == 0]\n",
    "y_s_val_rm_d = y_s_val[d_val_removed[:] == 0]\n",
    "\n",
    "print(y_s_tr_rm_d.shape)\n",
    "print(y_s_val_rm_d.shape)"
   ]
  },
  {
   "cell_type": "code",
   "execution_count": 23,
   "metadata": {},
   "outputs": [],
   "source": [
    "with h5py.File('./origin/y_scateid_rm_for_d.h5py', 'w') as write:\n",
    "    write.create_dataset('train', (607560, 3191), dtype='?')\n",
    "    write.create_dataset('val', (150332, 3191), dtype='?')\n",
    "    \n",
    "    write['train'][:] = y_s_tr_rm_d[:]\n",
    "    write['val'][:] = y_s_val_rm_d[:]"
   ]
  },
  {
   "cell_type": "code",
   "execution_count": 4,
   "metadata": {},
   "outputs": [],
   "source": [
    "y_d_tr = y_d_cate['train'][:]\n",
    "y_d_val = y_d_cate['val'][:]"
   ]
  },
  {
   "cell_type": "code",
   "execution_count": 5,
   "metadata": {},
   "outputs": [
    {
     "name": "stdout",
     "output_type": "stream",
     "text": [
      "(607560, 405)\n",
      "(150332, 405)\n"
     ]
    }
   ],
   "source": [
    "y_d_tr_removed = y_d_tr[d_train_removed[:] == 0]\n",
    "y_d_val_removed = y_d_val[d_val_removed[:] == 0]\n",
    "\n",
    "print(y_d_tr_removed.shape)\n",
    "print(y_d_val_removed.shape)"
   ]
  },
  {
   "cell_type": "code",
   "execution_count": 6,
   "metadata": {},
   "outputs": [],
   "source": [
    "with h5py.File('dcate/y_dcateid_rm.h5py', 'w') as write:\n",
    "    write.create_dataset('train', (607560, 405), dtype='?')\n",
    "    write.create_dataset('val', (150332, 405), dtype='?')\n",
    "    \n",
    "    write['train'][:] = y_d_tr_removed[:]\n",
    "    write['val'][:] = y_d_val_removed[:]"
   ]
  },
  {
   "cell_type": "code",
   "execution_count": null,
   "metadata": {},
   "outputs": [],
   "source": []
  },
  {
   "cell_type": "code",
   "execution_count": 8,
   "metadata": {},
   "outputs": [],
   "source": [
    "X_pro_tr = X_product['train'][:]\n",
    "X_pro_val = X_product['val'][:]\n",
    "\n",
    "X_mak_tr = X_maker['train'][:]\n",
    "X_mak_val = X_maker['val'][:]\n",
    "\n",
    "X_bra_tr = X_brand['train'][:]\n",
    "X_bra_val = X_brand['val'][:]\n",
    "\n",
    "X_mod_tr = X_model['train'][:]\n",
    "X_mod_val = X_model['val'][:]\n",
    "\n",
    "X_con_tr = X_con['train'][:]\n",
    "X_con_val = X_con['val'][:]"
   ]
  },
  {
   "cell_type": "code",
   "execution_count": null,
   "metadata": {},
   "outputs": [],
   "source": [
    "!free"
   ]
  },
  {
   "cell_type": "code",
   "execution_count": 9,
   "metadata": {},
   "outputs": [
    {
     "name": "stdout",
     "output_type": "stream",
     "text": [
      "(607560, 32)\n",
      "(607560, 32)\n",
      "(607560, 32)\n",
      "(607560, 32)\n",
      "(607560, 32)\n"
     ]
    }
   ],
   "source": [
    "X_pro_d_tr = X_pro_tr[d_train_removed[:] == 0]\n",
    "X_mak_d_tr = X_mak_tr[d_train_removed[:] == 0]\n",
    "X_bra_d_tr = X_bra_tr[d_train_removed[:] == 0]\n",
    "X_mod_d_tr = X_mod_tr[d_train_removed[:] == 0]\n",
    "X_con_d_tr = X_con_tr[d_train_removed[:] == 0]\n",
    "\n",
    "print(X_pro_d_tr.shape)\n",
    "print(X_mak_d_tr.shape)\n",
    "print(X_bra_d_tr.shape)\n",
    "print(X_mod_d_tr.shape)\n",
    "print(X_con_d_tr.shape)"
   ]
  },
  {
   "cell_type": "code",
   "execution_count": 10,
   "metadata": {},
   "outputs": [
    {
     "name": "stdout",
     "output_type": "stream",
     "text": [
      "(150332, 32)\n",
      "(150332, 32)\n",
      "(150332, 32)\n",
      "(150332, 32)\n",
      "(150332, 32)\n"
     ]
    }
   ],
   "source": [
    "X_pro_d_val = X_pro_val[d_val_removed[:] == 0]\n",
    "X_mak_d_val = X_mak_val[d_val_removed[:] == 0]\n",
    "X_bra_d_val = X_bra_val[d_val_removed[:] == 0]\n",
    "X_mod_d_val = X_mod_val[d_val_removed[:] == 0]\n",
    "X_con_d_val = X_con_val[d_val_removed[:] == 0]\n",
    "\n",
    "print(X_pro_d_val.shape)\n",
    "print(X_mak_d_val.shape)\n",
    "print(X_bra_d_val.shape)\n",
    "print(X_mod_d_val.shape)\n",
    "print(X_con_d_val.shape)"
   ]
  },
  {
   "cell_type": "code",
   "execution_count": 11,
   "metadata": {},
   "outputs": [],
   "source": [
    "with h5py.File('dcate/X_product_rm_d.h5py', 'w') as write:\n",
    "    write.create_dataset('train', (607560, 32), dtype='i4')\n",
    "    write.create_dataset('val', (150332, 32), dtype='i4')\n",
    "    \n",
    "    write['train'][:] = X_pro_d_tr[:]\n",
    "    write['val'][:] = X_pro_d_val[:]\n",
    "    \n",
    "with h5py.File('dcate/X_maker_rm_d.h5py', 'w') as write:\n",
    "    write.create_dataset('train', (607560, 32), dtype='i4')\n",
    "    write.create_dataset('val', (150332, 32), dtype='i4')\n",
    "    \n",
    "    write['train'][:] = X_mak_d_tr[:]\n",
    "    write['val'][:] = X_mak_d_val[:]\n",
    "    \n",
    "with h5py.File('dcate/X_brand_rm_d.h5py', 'w') as write:\n",
    "    write.create_dataset('train', (607560, 32), dtype='i4')\n",
    "    write.create_dataset('val', (150332, 32), dtype='i4')\n",
    "    \n",
    "    write['train'][:] = X_bra_d_tr[:]\n",
    "    write['val'][:] = X_bra_d_val[:]\n",
    "    \n",
    "with h5py.File('dcate/X_model_rm_d.h5py', 'w') as write:\n",
    "    write.create_dataset('train', (607560, 32), dtype='i4')\n",
    "    write.create_dataset('val', (150332, 32), dtype='i4')\n",
    "    \n",
    "    write['train'][:] = X_mod_d_tr[:]\n",
    "    write['val'][:] = X_mod_d_val[:]\n",
    "    \n",
    "with h5py.File('dcate/X_concate_rm_d.h5py', 'w') as write:\n",
    "    write.create_dataset('train', (607560, 32), dtype='i4')\n",
    "    write.create_dataset('val', (150332, 32), dtype='i4')\n",
    "    \n",
    "    write['train'][:] = X_con_d_tr[:]\n",
    "    write['val'][:] = X_con_d_val[:]"
   ]
  },
  {
   "cell_type": "code",
   "execution_count": null,
   "metadata": {},
   "outputs": [],
   "source": []
  },
  {
   "cell_type": "code",
   "execution_count": null,
   "metadata": {},
   "outputs": [],
   "source": []
  },
  {
   "cell_type": "code",
   "execution_count": null,
   "metadata": {},
   "outputs": [],
   "source": []
  },
  {
   "cell_type": "code",
   "execution_count": null,
   "metadata": {},
   "outputs": [],
   "source": [
    "X_pro_s_tr = X_pro_tr[s_train_removed[:] == 0]\n",
    "X_pro_s_tr.shape"
   ]
  },
  {
   "cell_type": "code",
   "execution_count": null,
   "metadata": {},
   "outputs": [],
   "source": [
    "X_mak_s_tr = X_mak_tr[s_train_removed[:] == 0]\n",
    "X_mak_s_tr.shape"
   ]
  },
  {
   "cell_type": "code",
   "execution_count": null,
   "metadata": {},
   "outputs": [],
   "source": [
    "X_bra_s_tr = X_bra_tr[s_train_removed[:] == 0]\n",
    "X_bra_s_tr.shape"
   ]
  },
  {
   "cell_type": "code",
   "execution_count": null,
   "metadata": {},
   "outputs": [],
   "source": [
    "X_mod_s_tr = X_mod_tr[s_train_removed[:] == 0]\n",
    "X_mod_s_tr.shape"
   ]
  },
  {
   "cell_type": "code",
   "execution_count": null,
   "metadata": {},
   "outputs": [],
   "source": [
    "X_pro_s_val = X_pro_val[s_val_removed[:] == 0]\n",
    "X_pro_s_val.shape"
   ]
  },
  {
   "cell_type": "code",
   "execution_count": null,
   "metadata": {},
   "outputs": [],
   "source": [
    "X_mak_s_val = X_mak_val[s_val_removed[:] == 0]\n",
    "X_mak_s_val.shape"
   ]
  },
  {
   "cell_type": "code",
   "execution_count": null,
   "metadata": {},
   "outputs": [],
   "source": [
    "X_bra_s_val = X_bra_val[s_val_removed[:] == 0]\n",
    "X_bra_s_val.shape"
   ]
  },
  {
   "cell_type": "code",
   "execution_count": null,
   "metadata": {},
   "outputs": [],
   "source": [
    "X_mod_s_val = X_mod_val[s_val_removed[:] == 0]\n",
    "X_mod_s_val.shape"
   ]
  },
  {
   "cell_type": "code",
   "execution_count": null,
   "metadata": {},
   "outputs": [],
   "source": [
    "with h5py.File('./origin/X_product_for_s.h5py', 'w') as write:\n",
    "    write.create_dataset('train', (5055885, 32), dtype='i4')\n",
    "    write.create_dataset('val', (1212813, 32), dtype='i4')\n",
    "    \n",
    "    write['train'][:] = X_pro_s_tr[:]\n",
    "    write['val'][:] = X_pro_s_val[:]"
   ]
  },
  {
   "cell_type": "code",
   "execution_count": null,
   "metadata": {},
   "outputs": [],
   "source": [
    "with h5py.File('./origin/X_maker_for_s.h5py', 'w') as write:\n",
    "    write.create_dataset('train', (5055885, 32), dtype='i4')\n",
    "    write.create_dataset('val', (1212813, 32), dtype='i4')\n",
    "    \n",
    "    write['train'][:] = X_mak_s_tr[:]\n",
    "    write['val'][:] = X_mak_s_val[:]"
   ]
  },
  {
   "cell_type": "code",
   "execution_count": null,
   "metadata": {},
   "outputs": [],
   "source": [
    "with h5py.File('./origin/X_brand_for_s.h5py', 'w') as write:\n",
    "    write.create_dataset('train', (5055885, 32), dtype='i4')\n",
    "    write.create_dataset('val', (1212813, 32), dtype='i4')\n",
    "    \n",
    "    write['train'][:] = X_bra_s_tr[:]\n",
    "    write['val'][:] = X_bra_s_val[:]"
   ]
  },
  {
   "cell_type": "code",
   "execution_count": null,
   "metadata": {},
   "outputs": [],
   "source": [
    "with h5py.File('./origin/X_model_for_s.h5py', 'w') as write:\n",
    "    write.create_dataset('train', (5055885, 32), dtype='i4')\n",
    "    write.create_dataset('val', (1212813, 32), dtype='i4')\n",
    "    \n",
    "    write['train'][:] = X_mod_s_tr[:]\n",
    "    write['val'][:] = X_mod_s_val[:]"
   ]
  },
  {
   "cell_type": "code",
   "execution_count": null,
   "metadata": {},
   "outputs": [],
   "source": []
  },
  {
   "cell_type": "code",
   "execution_count": null,
   "metadata": {},
   "outputs": [],
   "source": []
  },
  {
   "cell_type": "code",
   "execution_count": 15,
   "metadata": {},
   "outputs": [
    {
     "name": "stdout",
     "output_type": "stream",
     "text": [
      "(5055885, 2048) (1212813, 2048)\n",
      "(607560, 2048) (150332, 2048)\n"
     ]
    }
   ],
   "source": [
    "X_image_s = h5py.File('./origin/X_image_for_s.h5py', 'r')\n",
    "X_image_d = h5py.File('./origin/X_image_for_d.h5py', 'r')\n",
    "\n",
    "print(\"{} {}\".format(X_image_s['train'].shape, X_image_s['val'].shape))\n",
    "print(\"{} {}\".format(X_image_d['train'].shape, X_image_d['val'].shape))"
   ]
  },
  {
   "cell_type": "code",
   "execution_count": null,
   "metadata": {},
   "outputs": [],
   "source": []
  },
  {
   "cell_type": "code",
   "execution_count": null,
   "metadata": {},
   "outputs": [],
   "source": []
  },
  {
   "cell_type": "code",
   "execution_count": null,
   "metadata": {},
   "outputs": [],
   "source": []
  },
  {
   "cell_type": "code",
   "execution_count": null,
   "metadata": {},
   "outputs": [],
   "source": []
  },
  {
   "cell_type": "code",
   "execution_count": null,
   "metadata": {},
   "outputs": [],
   "source": []
  },
  {
   "cell_type": "code",
   "execution_count": null,
   "metadata": {},
   "outputs": [],
   "source": [
    "cnt = 0\n",
    "for i in range(ss.shape[0]):\n",
    "    if ss[i] == 1 :\n",
    "        cnt += 1\n",
    "    if (i % 100000 == 0):\n",
    "        print(i)\n",
    "\n",
    "print(cnt)"
   ]
  },
  {
   "cell_type": "code",
   "execution_count": null,
   "metadata": {},
   "outputs": [],
   "source": [
    "max_features = 100000\n",
    "max_len = 32\n",
    "embed_size = 128\n",
    "cate_size = 552"
   ]
  },
  {
   "cell_type": "code",
   "execution_count": null,
   "metadata": {},
   "outputs": [],
   "source": [
    "!free"
   ]
  },
  {
   "cell_type": "code",
   "execution_count": null,
   "metadata": {},
   "outputs": [],
   "source": [
    "batch_size = 4096*8"
   ]
  },
  {
   "cell_type": "code",
   "execution_count": null,
   "metadata": {
    "scrolled": false
   },
   "outputs": [],
   "source": [
    "model = generate_model(max_features, max_len, embed_size, cate_size)"
   ]
  },
  {
   "cell_type": "code",
   "execution_count": null,
   "metadata": {},
   "outputs": [],
   "source": [
    "tf.keras.backend.clear_session()\n",
    "\n",
    "tpu_model = tf.contrib.tpu.keras_to_tpu_model(\n",
    "    model,\n",
    "    strategy=tf.contrib.tpu.TPUDistributionStrategy(tf.contrib.cluster_resolver.TPUClusterResolver(TPU_WORKER)))"
   ]
  },
  {
   "cell_type": "code",
   "execution_count": null,
   "metadata": {},
   "outputs": [],
   "source": [
    "# tpu_model.compile(loss='categorical_crossentropy', optimizer='adam', metrics=['accuracy'])\n",
    "tpu_model.compile(loss='categorical_crossentropy', optimizer=tf.train.AdamOptimizer(), metrics=['accuracy'])"
   ]
  },
  {
   "cell_type": "code",
   "execution_count": null,
   "metadata": {},
   "outputs": [],
   "source": [
    "train_generator = data_generator([X_product['train'], X_model['train'], X_brand['train'], X_maker['train'], X_image['train']], y_m_cate['train'], batch_size, len(X_product['train']))\n",
    "valid_generator = data_generator([X_product['val'], X_model['val'], X_brand['val'], X_maker['val'],   X_image['val']], y_m_cate['val'], batch_size, len(X_product['val']))"
   ]
  },
  {
   "cell_type": "code",
   "execution_count": null,
   "metadata": {},
   "outputs": [],
   "source": [
    "# early_stopping = EarlyStopping(monitor='acc', mode = 'max',patience=5, verbose=1)\n",
    "\n",
    "model_checkpoint = ModelCheckpoint('b_model_only.h5',monitor='acc', \n",
    "                                   mode = 'max', save_best_only=True, verbose=1)\n",
    "# # reduce_lr = ReduceLROnPlateau(monitor='acc', mode = 'max',factor=0.5, patience=5, min_lr=0.0001, verbose=1)"
   ]
  },
  {
   "cell_type": "code",
   "execution_count": null,
   "metadata": {},
   "outputs": [],
   "source": [
    "tpu_model.fit_generator(generator=train_generator, \n",
    "                        steps_per_epoch=int(6507854/batch_size)+1, \n",
    "                        validation_data=valid_generator, \n",
    "                        validation_steps=int(1626964/batch_size)+1, epochs=10,\n",
    "                        callbacks=[model_checkpoint])"
   ]
  },
  {
   "cell_type": "markdown",
   "metadata": {},
   "source": [
    "# M model training!"
   ]
  },
  {
   "cell_type": "code",
   "execution_count": null,
   "metadata": {},
   "outputs": [],
   "source": [
    "for i in load_b.layers:\n",
    "    print(i.input)"
   ]
  },
  {
   "cell_type": "code",
   "execution_count": null,
   "metadata": {},
   "outputs": [],
   "source": [
    "load_b.layers[-6].output"
   ]
  },
  {
   "cell_type": "code",
   "execution_count": null,
   "metadata": {},
   "outputs": [],
   "source": [
    "load_b = load_model('tpu_b_model.h5')"
   ]
  },
  {
   "cell_type": "code",
   "execution_count": null,
   "metadata": {},
   "outputs": [],
   "source": [
    "load_b.trainable = False"
   ]
  },
  {
   "cell_type": "code",
   "execution_count": null,
   "metadata": {},
   "outputs": [],
   "source": [
    "new_m_input = Input(shape=(1,), name='m_input')\n",
    "new_m = Dense(256, activation='relu', name='dense_1_m1')(new_m_input)\n",
    "concate_m = Concatenate(name='concate_m1')([load_b.layers[-6].output, new_m])\n",
    "# new_m = BatchNormalization()(concate_m)\n",
    "new_m = Dense(512, activation='relu', name='dense_2_m1')(concate_m)\n",
    "new_m = Dropout(0.2, name='drop_2')(new_m)\n",
    "new_m = Dense(256, activation='relu', name='dense_4_m1')(new_m)\n",
    "new_m = Dropout(0.2, name='drop_3')(new_m)\n",
    "output = Dense(552, activation='softmax', name='dense_3_m1')(new_m)\n",
    "\n",
    "model_m = Model([load_b.layers[4].input,load_b.layers[5].input,load_b.layers[6].input,load_b.layers[7].input,load_b.layers[8].input,  new_m_input], output)"
   ]
  },
  {
   "cell_type": "code",
   "execution_count": null,
   "metadata": {},
   "outputs": [],
   "source": [
    "def data_generator_m(list_X,input_cate, y, batch_size, total_size):\n",
    "    start_idx = 0\n",
    "    end_idx = 0\n",
    "    while True:\n",
    "        if (start_idx + batch_size) >= total_size:\n",
    "            start_idx = 0\n",
    "            end_idx = 0\n",
    "            \n",
    "        end_idx += batch_size\n",
    "#         offset = np.random.randint(0, total_size - batch_size)\n",
    "        batch_X = []\n",
    "        for X in list_X:\n",
    "            batch_X.append(np.array(X[start_idx:end_idx]))\n",
    "            \n",
    "        cate_input = np.argmax(input_cate[start_idx:end_idx], axis=1)+1\n",
    "        batch_X.append(cate_input)    \n",
    "        batch_y = np.array(y[start_idx:end_idx])\n",
    "        start_idx = end_idx        \n",
    "        \n",
    "        yield batch_X, batch_y"
   ]
  },
  {
   "cell_type": "code",
   "execution_count": null,
   "metadata": {},
   "outputs": [],
   "source": [
    "train_generator_m = data_generator_m([X_product['train'], X_model['train'], X_brand['train'], X_maker['train'], X_image['train']],y_b_cate['train'], y_m_cate['train'], batch_size, len(X_product['train']))\n",
    "valid_generator_m = data_generator_m([X_product['val'], X_model['val'], X_brand['val'], X_maker['val'],   X_image['val']],y_b_cate['val'], y_m_cate['val'], batch_size, len(X_product['val']))"
   ]
  },
  {
   "cell_type": "code",
   "execution_count": null,
   "metadata": {},
   "outputs": [],
   "source": [
    "next(train_generator_m)[0][-1][20]"
   ]
  },
  {
   "cell_type": "code",
   "execution_count": null,
   "metadata": {},
   "outputs": [],
   "source": [
    "model_m.compile(loss='categorical_crossentropy', optimizer=tf.train.AdamOptimizer(), metrics=['acc'])\n",
    "# early_stopping = EarlyStopping(monitor='acc', mode = 'max',patience=5, verbose=1)\n",
    "\n",
    "ft_checkpoint = ModelCheckpoint('m_model_transfer.h5',monitor='acc', \n",
    "                                   mode = 'max', save_best_only=True, verbose=1)\n",
    "# # reduce_lr = ReduceLROnPlateau(monitor='acc', mode = 'max',factor=0.5, patience=5, min_lr=0.0001, verbose=1)"
   ]
  },
  {
   "cell_type": "code",
   "execution_count": null,
   "metadata": {},
   "outputs": [],
   "source": [
    "model_m.fit_generator(generator=train_generator_m, \n",
    "                        steps_per_epoch=int(6507854/batch_size)+1, \n",
    "                        validation_data=valid_generator_m, \n",
    "                        validation_steps=int(1626964/batch_size)+1, epochs=10,\n",
    "                        callbacks=[ft_checkpoint])"
   ]
  },
  {
   "cell_type": "code",
   "execution_count": null,
   "metadata": {},
   "outputs": [],
   "source": [
    "model_m.save('tpu_m_transfer.h5')"
   ]
  },
  {
   "cell_type": "markdown",
   "metadata": {},
   "source": [
    "# S_transfer model test!"
   ]
  },
  {
   "cell_type": "code",
   "execution_count": null,
   "metadata": {},
   "outputs": [],
   "source": [
    "load_m = load_model('m_model_transfer.h5')\n",
    "load_m.trainable = False"
   ]
  },
  {
   "cell_type": "code",
   "execution_count": null,
   "metadata": {},
   "outputs": [],
   "source": [
    "print(load_m.layers[0].input)\n",
    "print(load_m.layers[1].input)\n",
    "print(load_m.layers[2].input)\n",
    "print(load_m.layers[3].input)\n",
    "print(load_m.layers[8].input)\n",
    "print(load_m.layers[-9].input)\n",
    "print(load_m.layers[-6].output)"
   ]
  },
  {
   "cell_type": "code",
   "execution_count": null,
   "metadata": {},
   "outputs": [],
   "source": [
    "new_s = Input(shape=(1,), name='input_s')\n",
    "new1 = Dense(256, activation='relu')(new_s)\n",
    "concate_m = Concatenate()([load_m.layers[-6].output, new1])\n",
    "# new1 = BatchNormalization()(concate_m)\n",
    "new1 = Dense(256, activation='relu')(concate_m)\n",
    "new1 = Dropout(0.2)(new1)\n",
    "output = Dense(3191, activation='softmax')(new1)\n",
    "\n",
    "model_s = Model([load_m.layers[0].input,load_m.layers[1].input,load_m.layers[2].input,load_m.layers[3].input,load_m.layers[8].input, load_m.layers[-9].input, new_s], output)"
   ]
  },
  {
   "cell_type": "code",
   "execution_count": null,
   "metadata": {},
   "outputs": [],
   "source": [
    "max_features = 100000\n",
    "max_len = 32\n",
    "embed_size = 128\n",
    "cate_size = 3191"
   ]
  },
  {
   "cell_type": "code",
   "execution_count": null,
   "metadata": {},
   "outputs": [],
   "source": [
    "def data_generator_s(list_X,input_cate_b, input_cate_m, y, batch_size, total_size):\n",
    "#     start_idx = 0\n",
    "#     end_idx = 0\n",
    "    while True:\n",
    "#         end_idx += batch_size\n",
    "        offset = np.random.randint(0, total_size - batch_size)\n",
    "        batch_X = []\n",
    "        for X in list_X:\n",
    "            batch_X.append(np.array(X[offset:offset+batch_size]))\n",
    "            \n",
    "        cate_input_b = np.argmax(input_cate_b[offset:offset+batch_size], axis=1)+1\n",
    "        batch_X.append(cate_input_b)\n",
    "        cate_input_m = np.argmax(input_cate_m[offset:offset+batch_size], axis=1)+1\n",
    "        batch_X.append(cate_input_m)\n",
    "        batch_y = np.array(y[offset:offset+batch_size])\n",
    "#         start_idx = end_idx        \n",
    "        \n",
    "        yield batch_X, batch_y"
   ]
  },
  {
   "cell_type": "code",
   "execution_count": null,
   "metadata": {},
   "outputs": [],
   "source": [
    "train_generator_s = data_generator_s([X_product['train'], X_model['train'], X_brand['train'], X_maker['train'], X_image['train']],y_b_cate['train'], y_m_cate['train'],y_s_cate['train'], batch_size, len(X_product['train']))\n",
    "valid_generator_s = data_generator_s([X_product['val'], X_model['val'], X_brand['val'], X_maker['val'],   X_image['val']],y_b_cate['val'], y_m_cate['val'], y_s_cate['val'], batch_size, len(X_product['val']))"
   ]
  },
  {
   "cell_type": "code",
   "execution_count": null,
   "metadata": {},
   "outputs": [],
   "source": [
    "model_s.compile(loss='categorical_crossentropy', optimizer=tf.train.AdamOptimizer(), metrics=['acc'])\n",
    "# early_stopping = EarlyStopping(monitor='acc', mode = 'max',patience=5, verbose=1)\n",
    "\n",
    "s_checkpoint = ModelCheckpoint('s_model_transfer.h5',monitor='acc', \n",
    "                                   mode = 'max', save_best_only=True, verbose=1)\n",
    "# # reduce_lr = ReduceLROnPlateau(monitor='acc', mode = 'max',factor=0.5, patience=5, min_lr=0.0001, verbose=1)"
   ]
  },
  {
   "cell_type": "code",
   "execution_count": null,
   "metadata": {
    "scrolled": true
   },
   "outputs": [],
   "source": [
    "model_s.fit_generator(generator=train_generator_s, \n",
    "                        steps_per_epoch=int(6507854/batch_size)+1, \n",
    "                        validation_data=valid_generator_s, \n",
    "                        validation_steps=int(1626964/batch_size)+1, epochs=10,\n",
    "                        callbacks=[s_checkpoint])"
   ]
  },
  {
   "cell_type": "markdown",
   "metadata": {},
   "source": [
    "# D model test!"
   ]
  },
  {
   "cell_type": "code",
   "execution_count": null,
   "metadata": {},
   "outputs": [],
   "source": [
    "load_d = load_model('s_model_transfer.h5')\n",
    "load_d.trainable = False"
   ]
  },
  {
   "cell_type": "code",
   "execution_count": null,
   "metadata": {},
   "outputs": [],
   "source": [
    "for i in load_d.layers:\n",
    "    print(i.input)"
   ]
  },
  {
   "cell_type": "code",
   "execution_count": null,
   "metadata": {},
   "outputs": [],
   "source": [
    "print(load_d.layers[4].input)\n",
    "print(load_d.layers[5].input)\n",
    "print(load_d.layers[6].input)\n",
    "print(load_d.layers[7].input)\n",
    "print(load_d.layers[8].input)\n",
    "print(load_d.layers[-10].input)\n",
    "print(load_d.layers[-7].input)\n",
    "print(load_d.layers[-4].output)"
   ]
  },
  {
   "cell_type": "code",
   "execution_count": null,
   "metadata": {},
   "outputs": [],
   "source": [
    "new_d = Input(shape=(1,), name='input_d')\n",
    "new1 = Dense(256, activation='relu')(new_d)\n",
    "concate_d = Concatenate()([load_d.layers[-4].output, new1])\n",
    "# new1 = BatchNormalization()(concate_m)\n",
    "new1 = Dense(256, activation='relu')(concate_d)\n",
    "new1 = Dropout(0.2)(new1)\n",
    "output = Dense(405, activation='softmax')(new1)\n",
    "\n",
    "model_d = Model([load_d.layers[4].input,load_d.layers[5].input,load_d.layers[6].input,load_d.layers[7].input,load_d.layers[8].input, load_d.layers[-10].input, load_d.layers[-7].input, new_d], output)"
   ]
  },
  {
   "cell_type": "code",
   "execution_count": null,
   "metadata": {},
   "outputs": [],
   "source": [
    "def data_generator_d(list_X,input_cate_b, input_cate_m, input_cate_s, y, batch_size, total_size):\n",
    "    start_idx = 0\n",
    "    end_idx = 0\n",
    "    while True:\n",
    "        if (start_idx + batch_size) >= total_size:\n",
    "            start_idx = 0\n",
    "            end_idx = 0\n",
    "        end_idx += batch_size\n",
    "#         offset = np.random.randint(0, total_size - batch_size)\n",
    "        batch_X = []\n",
    "        for X in list_X:\n",
    "            batch_X.append(np.array(X[start_idx:end_idx]))\n",
    "            \n",
    "        cate_input_b = np.argmax(input_cate_b[start_idx:end_idx], axis=1)+1\n",
    "        batch_X.append(cate_input_b)\n",
    "        cate_input_m = np.argmax(input_cate_m[start_idx:end_idx], axis=1)+1\n",
    "        batch_X.append(cate_input_m)\n",
    "        cate_input_s = np.argmax(input_cate_s[start_idx:end_idx], axis=1)\n",
    "        batch_X.append(cate_input_s)\n",
    "        batch_y = np.array(y[start_idx:end_idx])\n",
    "        start_idx = end_idx        \n",
    "        \n",
    "        yield batch_X, batch_y"
   ]
  },
  {
   "cell_type": "code",
   "execution_count": null,
   "metadata": {},
   "outputs": [],
   "source": [
    "batch_size=4096*8"
   ]
  },
  {
   "cell_type": "code",
   "execution_count": null,
   "metadata": {},
   "outputs": [],
   "source": [
    "train_generator_d = data_generator_d([X_product['train'], X_model['train'], X_brand['train'], X_maker['train'], X_image['train']],y_b_cate['train'], y_m_cate['train'],y_s_cate['train'], y_d_cate['train'], batch_size, len(X_product['train']))\n",
    "valid_generator_d = data_generator_d([X_product['val'], X_model['val'], X_brand['val'], X_maker['val'], X_image['val']],y_b_cate['val'], y_m_cate['val'], y_s_cate['val'], y_d_cate['val'], batch_size, len(X_product['val']))"
   ]
  },
  {
   "cell_type": "code",
   "execution_count": null,
   "metadata": {},
   "outputs": [],
   "source": [
    "model_d.compile(loss='categorical_crossentropy', optimizer=tf.train.AdamOptimizer(), metrics=['acc'])\n",
    "# early_stopping = EarlyStopping(monitor='acc', mode = 'max',patience=5, verbose=1)\n",
    "\n",
    "d_checkpoint = ModelCheckpoint('d_model_transfer.h5',monitor='acc', \n",
    "                                   mode = 'max', save_best_only=True, verbose=1)\n",
    "# # reduce_lr = ReduceLROnPlateau(monitor='acc', mode = 'max',factor=0.5, patience=5, min_lr=0.0001, verbose=1)"
   ]
  },
  {
   "cell_type": "code",
   "execution_count": null,
   "metadata": {},
   "outputs": [],
   "source": [
    "model_d.fit_generator(generator=train_generator_d, \n",
    "                        steps_per_epoch=int(6507854/batch_size)+1, \n",
    "                        validation_data=valid_generator_d, \n",
    "                        validation_steps=int(1626964/batch_size)+1, epochs=10,\n",
    "                        callbacks=[d_checkpoint])"
   ]
  },
  {
   "cell_type": "code",
   "execution_count": null,
   "metadata": {},
   "outputs": [],
   "source": []
  }
 ],
 "metadata": {
  "kernelspec": {
   "display_name": "Python 3",
   "language": "python",
   "name": "python3"
  },
  "language_info": {
   "codemirror_mode": {
    "name": "ipython",
    "version": 3
   },
   "file_extension": ".py",
   "mimetype": "text/x-python",
   "name": "python",
   "nbconvert_exporter": "python",
   "pygments_lexer": "ipython3",
   "version": "3.6.8"
  }
 },
 "nbformat": 4,
 "nbformat_minor": 2
}
